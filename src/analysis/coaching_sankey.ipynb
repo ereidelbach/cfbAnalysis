{
 "cells": [
  {
   "cell_type": "code",
   "execution_count": 77,
   "metadata": {},
   "outputs": [],
   "source": [
    "import plotly.graph_objects as go\n",
    "import plotly.express as px\n",
    "import pandas as pd"
   ]
  },
  {
   "cell_type": "code",
   "execution_count": 111,
   "metadata": {},
   "outputs": [],
   "source": [
    "# ingest coaching history data\n",
    "df_coaches = pd.read_csv(r'C:\\Users\\reideej1\\Downloads\\Scott Frost\\coaching_history_2020-12-02.csv')"
   ]
  },
  {
   "cell_type": "code",
   "execution_count": 130,
   "metadata": {},
   "outputs": [],
   "source": [
    "# Create pop-tooltips\n",
    "label_coaches = []\n",
    "source = []\n",
    "target = []\n",
    "value = []\n",
    "\n",
    "dict_conf = {'CUSA':0,\n",
    "             'ACC':1, \n",
    "             'American':2,\n",
    "             'Sun Belt':3,\n",
    "             'MWC':4,\n",
    "             'MAC':5,\n",
    "             'SEC':6,\n",
    "             'Big Ten':7,\n",
    "             'Big 12':8,\n",
    "             'Pac-12':9,\n",
    "             'Ind':10}\n",
    "\n",
    "# Node info\n",
    "label_nodes = ['CUSA', 'ACC', 'American', 'Sun Belt', 'MWC', 'MAC', \n",
    "               'SEC', 'Big Ten', 'Big 12', 'Pac-12', 'Ind', \n",
    "               'Coaches 3 or more seasons', 'Coached 2 seasons or less']"
   ]
  },
  {
   "cell_type": "code",
   "execution_count": 131,
   "metadata": {},
   "outputs": [],
   "source": [
    "# Establish Labels\n",
    "for index, row in df_coaches.iterrows():\n",
    "    coach_entry = (str(row['coach'] + '<br>' + \n",
    "                   'Total Seasons:' + str(row['total_seasons']) + '<br>' + \n",
    "                   'Total Games:' + str(row['total_games']) + '<br>' + \n",
    "                   'Total Wins:' + str(row['total_wins']) + '<br>' + \n",
    "                   'Total Losses:' + str(row['total_losses']) + '<br>' + \n",
    "                   'Total Win %:' + str(row['total_win_pct']) + '<br>' +\n",
    "                   'AP Top 25 Finishes:' + str(row['total_ranked_post']) + '<br>' + \n",
    "                   'AP Top 10 Finishes:' + str(row['total_top_10']) + '<br>' + \n",
    "                   'Bowl Games:' + str(row['total_bowl']) + '<br>'))\n",
    "    label_coaches.append(coach_entry)\n",
    "    source.append(dict_conf[row['conf']])\n",
    "    if row['total_seasons'] >= 3:\n",
    "        target.append(11)\n",
    "    else:\n",
    "        target.append(12)\n",
    "    value.append(1)"
   ]
  },
  {
   "cell_type": "code",
   "execution_count": null,
   "metadata": {},
   "outputs": [],
   "source": [
    "# data to dict, dict to sankey\n",
    "link = dict(source = source, target = target, value = value, label = label_coaches)\n",
    "node = dict(label = label_nodes, pad=50, thickness=30, line = dict(color='black', width = 2.0))\n",
    "data = go.Sankey(arrangement = 'freeform', link = link, node=node, orientation = 'v')\n",
    "# plot\n",
    "fig = go.Figure(data)\n",
    "fig.update_layout(title_text = 'Coaching Tenures since 1970', font_size = 14)\n",
    "fig.show()"
   ]
  },
  {
   "cell_type": "code",
   "execution_count": 62,
   "metadata": {},
   "outputs": [],
   "source": [
    "# data\n",
    "label = ['Coaching Tenures Since 1970','29+ Games Coached','Did Not Last',\n",
    "         'Win % >= 40.6','Win % < 40.6', '.500 record or better', 'Worse than .500 record', 'Multiple 10 Top AP Seasons']\n",
    "source = [0, 0 ,1, 1, 4, 4, 5]\n",
    "target = [1, 2, 3, 4, 5, 6, 7]\n",
    "value = [835, 362, 523, 312, 26, 286, 6]\n",
    "color_node = ['blue', 'red', 'gray', 'gray', 'red', 'yellow', 'red','yellow']\n",
    "color_link = []"
   ]
  },
  {
   "cell_type": "code",
   "execution_count": 73,
   "metadata": {},
   "outputs": [],
   "source": [
    "# data to dict, dict to sankey\n",
    "link = dict(source = source, target = target, value = value)\n",
    "node = dict(label = label, pad=50, thickness=30, color = color_node, line = dict(color='black', width = 2.0))\n",
    "data = go.Sankey(arrangement = 'freeform', link = link, node=node, orientation = 'v')"
   ]
  },
  {
   "cell_type": "code",
   "execution_count": null,
   "metadata": {},
   "outputs": [],
   "source": [
    "# plot\n",
    "fig = go.Figure(data)\n",
    "fig.update_layout(title_text = 'Coaching Tenures since 1970',\n",
    "                 height = 600,\n",
    "                 font_size = 14)\n",
    "fig.show()"
   ]
  }
 ],
 "metadata": {
  "kernelspec": {
   "display_name": "Python 3",
   "language": "python",
   "name": "python3"
  },
  "language_info": {
   "codemirror_mode": {
    "name": "ipython",
    "version": 3
   },
   "file_extension": ".py",
   "mimetype": "text/x-python",
   "name": "python",
   "nbconvert_exporter": "python",
   "pygments_lexer": "ipython3",
   "version": "3.7.9"
  }
 },
 "nbformat": 4,
 "nbformat_minor": 4
}
